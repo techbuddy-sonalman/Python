{
  "nbformat": 4,
  "nbformat_minor": 0,
  "metadata": {
    "colab": {
      "name": "LearningPython_Session_2.ipynb",
      "provenance": [],
      "collapsed_sections": [],
      "toc_visible": true,
      "authorship_tag": "ABX9TyNKqahqesEzMOjaY5KK6f8d",
      "include_colab_link": true
    },
    "kernelspec": {
      "name": "python3",
      "display_name": "Python 3"
    },
    "language_info": {
      "name": "python"
    }
  },
  "cells": [
    {
      "cell_type": "markdown",
      "metadata": {
        "id": "view-in-github",
        "colab_type": "text"
      },
      "source": [
        "<a href=\"https://colab.research.google.com/github/techbuddy-sonalman/Python/blob/master/LearningPython_Session_2.ipynb\" target=\"_parent\"><img src=\"https://colab.research.google.com/assets/colab-badge.svg\" alt=\"Open In Colab\"/></a>"
      ]
    },
    {
      "cell_type": "code",
      "metadata": {
        "colab": {
          "base_uri": "https://localhost:8080/"
        },
        "id": "CBXAdbWdXQuJ",
        "outputId": "e7b8158a-2bc4-4906-8b90-480bd26a58e0"
      },
      "source": [
        "print(\"Hello World\")"
      ],
      "execution_count": 1,
      "outputs": [
        {
          "output_type": "stream",
          "name": "stdout",
          "text": [
            "Hello World\n"
          ]
        }
      ]
    },
    {
      "cell_type": "markdown",
      "metadata": {
        "id": "au3C2Nz9XyVL"
      },
      "source": [
        "***Session 2:***\n",
        "\n",
        "**Agenda**\n",
        "  - Variables\n",
        "  - Data Types\n",
        "  - Conditional Statements\n",
        "  - Loops\n",
        "  - Slicing & Indexing\n"
      ]
    },
    {
      "cell_type": "markdown",
      "metadata": {
        "id": "ksVBVIZ3XsCY"
      },
      "source": [
        "**Variables:**\n",
        "\n",
        "create a variable\n",
        " var1 = 100  # create a new variable var1 and assigned value as 100"
      ]
    },
    {
      "cell_type": "code",
      "metadata": {
        "id": "3EH3ORxhY5wQ"
      },
      "source": [
        "var1 = 100"
      ],
      "execution_count": 3,
      "outputs": []
    },
    {
      "cell_type": "code",
      "metadata": {
        "colab": {
          "base_uri": "https://localhost:8080/"
        },
        "id": "AC-x_sOJY5zW",
        "outputId": "c75d1654-905c-45da-9f79-a59fce21826f"
      },
      "source": [
        "print(type(var1))"
      ],
      "execution_count": 4,
      "outputs": [
        {
          "output_type": "stream",
          "name": "stdout",
          "text": [
            "<class 'int'>\n"
          ]
        }
      ]
    },
    {
      "cell_type": "markdown",
      "metadata": {
        "id": "9lNsp6XAZDXU"
      },
      "source": [
        "Please note: type() function will display the class of data the variable is holding currently"
      ]
    },
    {
      "cell_type": "markdown",
      "metadata": {
        "id": "OxFOvHSAZT_G"
      },
      "source": [
        "**Type of DataType**\n",
        "Or you can say, the type of data that a variable can be store in a variable"
      ]
    },
    {
      "cell_type": "markdown",
      "metadata": {
        "id": "3ys1KodnZsjZ"
      },
      "source": [
        "**Types are** -> Integer, string, float, list, tuple, dictionary, set, boolean, complex\n",
        "\n",
        "Further these types can be classify as Mutuable (which can be modified) or Immutuable (which cannot be modified)\n",
        "\n",
        "**Mutuable DataTypes are:** list, dictionary, set, boolean\n",
        "**Immutuable DataTypes are:** Integer, string, complex\n"
      ]
    },
    {
      "cell_type": "code",
      "metadata": {
        "colab": {
          "base_uri": "https://localhost:8080/"
        },
        "id": "WTzuYuX_aAG5",
        "outputId": "5e06d28e-70f0-405b-8678-973ff79bc0f8"
      },
      "source": [
        "var2 = 10.0\n",
        "print(type(var2))"
      ],
      "execution_count": 7,
      "outputs": [
        {
          "output_type": "stream",
          "name": "stdout",
          "text": [
            "<class 'float'>\n"
          ]
        }
      ]
    },
    {
      "cell_type": "code",
      "metadata": {
        "colab": {
          "base_uri": "https://localhost:8080/"
        },
        "id": "GuNhve7zZTYP",
        "outputId": "46fa244e-0d84-42a7-bde1-e59e4b50ba59"
      },
      "source": [
        "var2 = \"Hello World\"\n",
        "print(type(var2))       # print the type of data\n",
        "print(var2)             # print the value stored in data"
      ],
      "execution_count": 13,
      "outputs": [
        {
          "output_type": "stream",
          "name": "stdout",
          "text": [
            "<class 'str'>\n",
            "Hello World\n"
          ]
        }
      ]
    },
    {
      "cell_type": "code",
      "metadata": {
        "colab": {
          "base_uri": "https://localhost:8080/"
        },
        "id": "P3X0ksuUYjjf",
        "outputId": "adeed6ad-e183-45fe-c737-616be5d8050c"
      },
      "source": [
        "print(var2)             #print the current value of var2 variable\n",
        "var2 = 'Hello'          #re-assign the current value of var2 variable using single quotes\n",
        "print(type(var2))       #print the type of var2 \n",
        "print(var2)             #print the new value stored in data"
      ],
      "execution_count": 14,
      "outputs": [
        {
          "output_type": "stream",
          "name": "stdout",
          "text": [
            "Hello World\n",
            "<class 'str'>\n",
            "Hello\n"
          ]
        }
      ]
    },
    {
      "cell_type": "code",
      "metadata": {
        "colab": {
          "base_uri": "https://localhost:8080/",
          "height": 130
        },
        "id": "WtWwbLUdZSJK",
        "outputId": "fe398501-f0bd-4157-efe0-c9f9b48a0b33"
      },
      "source": [
        "# multiline string variable\n",
        "\n",
        "var3 = \"This is a beautiful day.\n",
        "Another lovely day.\"\n"
      ],
      "execution_count": 15,
      "outputs": [
        {
          "output_type": "error",
          "ename": "SyntaxError",
          "evalue": "ignored",
          "traceback": [
            "\u001b[0;36m  File \u001b[0;32m\"<ipython-input-15-7126ec21752c>\"\u001b[0;36m, line \u001b[0;32m3\u001b[0m\n\u001b[0;31m    var3 = \"This is a beautiful day.\u001b[0m\n\u001b[0m                                    ^\u001b[0m\n\u001b[0;31mSyntaxError\u001b[0m\u001b[0;31m:\u001b[0m EOL while scanning string literal\n"
          ]
        }
      ]
    },
    {
      "cell_type": "markdown",
      "metadata": {
        "id": "Dg-odImVdyGp"
      },
      "source": [
        "Python will read each line and raise error \"**`SyntaxError: EOL while scanning string literal`**\" if missing quotes in same line. \n",
        "This way you are not allowed to create a multiple line string variable.\n",
        "\n",
        "Python provides another method to create variables with multi-line string value"
      ]
    },
    {
      "cell_type": "code",
      "metadata": {
        "colab": {
          "base_uri": "https://localhost:8080/"
        },
        "id": "scjtVcdEduLm",
        "outputId": "6c79c69c-af1a-4c23-db72-da754659ccf8"
      },
      "source": [
        "var3 = \"\"\"\n",
        "This is a beautiful day.\n",
        "Another lovely day.\n",
        "\"\"\"\n",
        "print(type(var3))\n",
        "print(var3)"
      ],
      "execution_count": 16,
      "outputs": [
        {
          "output_type": "stream",
          "name": "stdout",
          "text": [
            "<class 'str'>\n",
            "\n",
            "This is a beautiful day.\n",
            "Another lovely day.\n",
            "\n"
          ]
        }
      ]
    },
    {
      "cell_type": "code",
      "metadata": {
        "id": "ykB0jO0ke54p"
      },
      "source": [
        ""
      ],
      "execution_count": null,
      "outputs": []
    }
  ]
}