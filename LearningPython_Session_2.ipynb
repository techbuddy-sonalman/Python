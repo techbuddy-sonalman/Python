{
  "nbformat": 4,
  "nbformat_minor": 0,
  "metadata": {
    "colab": {
      "name": "LearningPython_Session_2.ipynb",
      "provenance": [],
      "collapsed_sections": [],
      "authorship_tag": "ABX9TyOSQY6ymMmzoU62LQIZpdBB",
      "include_colab_link": true
    },
    "kernelspec": {
      "name": "python3",
      "display_name": "Python 3"
    },
    "language_info": {
      "name": "python"
    }
  },
  "cells": [
    {
      "cell_type": "markdown",
      "metadata": {
        "id": "view-in-github",
        "colab_type": "text"
      },
      "source": [
        "<a href=\"https://colab.research.google.com/github/techbuddy-sonalman/Python/blob/master/LearningPython_Session_2.ipynb\" target=\"_parent\"><img src=\"https://colab.research.google.com/assets/colab-badge.svg\" alt=\"Open In Colab\"/></a>"
      ]
    },
    {
      "cell_type": "code",
      "metadata": {
        "colab": {
          "base_uri": "https://localhost:8080/"
        },
        "id": "CBXAdbWdXQuJ",
        "outputId": "e7b8158a-2bc4-4906-8b90-480bd26a58e0"
      },
      "source": [
        "print(\"Hello World\")"
      ],
      "execution_count": 1,
      "outputs": [
        {
          "output_type": "stream",
          "name": "stdout",
          "text": [
            "Hello World\n"
          ]
        }
      ]
    },
    {
      "cell_type": "markdown",
      "metadata": {
        "id": "au3C2Nz9XyVL"
      },
      "source": [
        "***Session 2:***\n",
        "\n",
        "**Agenda**\n",
        "  - Variables\n",
        "  - Data Types\n",
        "  - Conditional Statements\n",
        "  - Loops\n",
        "  - Slicing & Indexing\n"
      ]
    },
    {
      "cell_type": "markdown",
      "metadata": {
        "id": "ksVBVIZ3XsCY"
      },
      "source": [
        "**Variables:**\n",
        "\n",
        "create a variable\n",
        " var1 = 100  # create a new variable var1 and assigned value as 100"
      ]
    },
    {
      "cell_type": "code",
      "metadata": {
        "id": "3EH3ORxhY5wQ"
      },
      "source": [
        "var1 = 100"
      ],
      "execution_count": 3,
      "outputs": []
    },
    {
      "cell_type": "code",
      "metadata": {
        "colab": {
          "base_uri": "https://localhost:8080/"
        },
        "id": "AC-x_sOJY5zW",
        "outputId": "c75d1654-905c-45da-9f79-a59fce21826f"
      },
      "source": [
        "print(type(var1))"
      ],
      "execution_count": 4,
      "outputs": [
        {
          "output_type": "stream",
          "name": "stdout",
          "text": [
            "<class 'int'>\n"
          ]
        }
      ]
    },
    {
      "cell_type": "markdown",
      "metadata": {
        "id": "9lNsp6XAZDXU"
      },
      "source": [
        "Please note: type() function will display the class of data the variable is holding currently"
      ]
    },
    {
      "cell_type": "markdown",
      "metadata": {
        "id": "OxFOvHSAZT_G"
      },
      "source": [
        "**Type of DataType**\n",
        "Or you can say, the type of a data can be store in a variable"
      ]
    },
    {
      "cell_type": "markdown",
      "metadata": {
        "id": "3ys1KodnZsjZ"
      },
      "source": [
        "**Types are** -> Integer, string, float, list, tuple, dictionary, set, boolean, complex\n",
        "\n",
        "Further these types can be classify as Mutuable (which can be modified) or Immutuable (which cannot be modified)\n",
        "\n",
        "**Mutuable DataTypes are:** list, dictionary, "
      ]
    },
    {
      "cell_type": "code",
      "metadata": {
        "id": "WTzuYuX_aAG5"
      },
      "source": [
        ""
      ],
      "execution_count": null,
      "outputs": []
    },
    {
      "cell_type": "code",
      "metadata": {
        "id": "GuNhve7zZTYP"
      },
      "source": [
        ""
      ],
      "execution_count": null,
      "outputs": []
    },
    {
      "cell_type": "code",
      "metadata": {
        "id": "P3X0ksuUYjjf"
      },
      "source": [
        ""
      ],
      "execution_count": null,
      "outputs": []
    },
    {
      "cell_type": "code",
      "metadata": {
        "id": "WtWwbLUdZSJK"
      },
      "source": [
        ""
      ],
      "execution_count": null,
      "outputs": []
    }
  ]
}